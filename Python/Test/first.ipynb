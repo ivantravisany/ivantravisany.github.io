{
 "cells": [
  {
   "cell_type": "markdown",
   "metadata": {},
   "source": [
    "# Testing Jupyter Notebook in Git\n",
    "\n",
    "One, two, three"
   ]
  },
  {
   "cell_type": "code",
   "execution_count": 1,
   "metadata": {},
   "outputs": [],
   "source": [
    "import pandas as pd"
   ]
  },
  {
   "cell_type": "code",
   "execution_count": 2,
   "metadata": {},
   "outputs": [],
   "source": [
    "# Read data from CSV file\n",
    "df = pd.read_csv('data.csv', na_values=\"None\")"
   ]
  },
  {
   "cell_type": "code",
   "execution_count": 3,
   "metadata": {},
   "outputs": [
    {
     "name": "stdout",
     "output_type": "stream",
     "text": [
      "Initial Data Types:\n",
      "Age    float64\n",
      "Sex     object\n",
      "dtype: object\n"
     ]
    }
   ],
   "source": [
    "# Check initial column types\n",
    "print(\"Initial Data Types:\")\n",
    "print(df.dtypes)"
   ]
  },
  {
   "cell_type": "code",
   "execution_count": 4,
   "metadata": {},
   "outputs": [
    {
     "name": "stdout",
     "output_type": "stream",
     "text": [
      "\n",
      "First 5 Rows:\n",
      "    Age     Sex\n",
      "0  29.0  Female\n",
      "1  32.0    MALE\n",
      "2  58.0   Other\n",
      "3  25.0    Male\n",
      "4  41.0  FEMALE\n"
     ]
    }
   ],
   "source": [
    "# Get the first 5 values\n",
    "print(\"\\nFirst 5 Rows:\")\n",
    "print(df.head())"
   ]
  },
  {
   "cell_type": "code",
   "execution_count": 5,
   "metadata": {},
   "outputs": [
    {
     "name": "stdout",
     "output_type": "stream",
     "text": [
      "\n",
      "Null Counts by Column:\n",
      "Age    11\n",
      "Sex     4\n",
      "dtype: int64\n"
     ]
    }
   ],
   "source": [
    "# Count null values by column\n",
    "print(\"\\nNull Counts by Column:\")\n",
    "print(df.isnull().sum())"
   ]
  },
  {
   "cell_type": "code",
   "execution_count": 6,
   "metadata": {},
   "outputs": [],
   "source": [
    "# Data cleaning function\n",
    "def clean_data(df):\n",
    "    # Fill missing 'Age' values with the median of the 'Age' column\n",
    "    df['Age'].fillna(df['Age'].median(), inplace=True)\n",
    "    # Standardize 'Sex' column to be all lowercase and fill missing with 'Unknown'\n",
    "    df['Sex'] = df['Sex'].str.lower().fillna('unknown')\n",
    "    return df"
   ]
  },
  {
   "cell_type": "code",
   "execution_count": 7,
   "metadata": {},
   "outputs": [],
   "source": [
    "# Clean the DataFrame\n",
    "df_cleaned = clean_data(df)"
   ]
  },
  {
   "cell_type": "markdown",
   "metadata": {},
   "source": [
    "## Final results"
   ]
  },
  {
   "cell_type": "code",
   "execution_count": 8,
   "metadata": {},
   "outputs": [
    {
     "name": "stdout",
     "output_type": "stream",
     "text": [
      "\n",
      "Final Data Types:\n",
      "Age    float64\n",
      "Sex     object\n",
      "dtype: object\n",
      "\n",
      "First 5 Rows of Cleaned DataFrame:\n",
      "    Age     Sex\n",
      "0  29.0  female\n",
      "1  32.0    male\n",
      "2  58.0   other\n",
      "3  25.0    male\n",
      "4  41.0  female\n",
      "\n",
      "Null Counts by Column After Cleaning:\n",
      "Age    0\n",
      "Sex    0\n",
      "dtype: int64\n"
     ]
    }
   ],
   "source": [
    "# Check the final DataFrame\n",
    "print(\"\\nFinal Data Types:\")\n",
    "print(df_cleaned.dtypes)\n",
    "\n",
    "print(\"\\nFirst 5 Rows of Cleaned DataFrame:\")\n",
    "print(df_cleaned.head())\n",
    "\n",
    "print(\"\\nNull Counts by Column After Cleaning:\")\n",
    "print(df_cleaned.isnull().sum())"
   ]
  }
 ],
 "metadata": {
  "kernelspec": {
   "display_name": "Python 3",
   "language": "python",
   "name": "python3"
  },
  "language_info": {
   "codemirror_mode": {
    "name": "ipython",
    "version": 3
   },
   "file_extension": ".py",
   "mimetype": "text/x-python",
   "name": "python",
   "nbconvert_exporter": "python",
   "pygments_lexer": "ipython3",
   "version": "3.9.6"
  }
 },
 "nbformat": 4,
 "nbformat_minor": 2
}
