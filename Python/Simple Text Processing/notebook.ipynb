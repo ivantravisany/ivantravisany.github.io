{
 "cells": [
  {
   "cell_type": "markdown",
   "metadata": {},
   "source": [
    "# Simple Text Processing"
   ]
  },
  {
   "cell_type": "code",
   "execution_count": 1,
   "metadata": {},
   "outputs": [],
   "source": [
    "import nltk\n",
    "from nltk.tokenize import sent_tokenize, word_tokenize\n",
    "from nltk.corpus import stopwords\n",
    "from nltk.stem import PorterStemmer, WordNetLemmatizer"
   ]
  },
  {
   "cell_type": "code",
   "execution_count": 2,
   "metadata": {},
   "outputs": [
    {
     "name": "stderr",
     "output_type": "stream",
     "text": [
      "[nltk_data] Downloading package punkt to\n",
      "[nltk_data]     /Users/ivantravisany/nltk_data...\n",
      "[nltk_data]   Package punkt is already up-to-date!\n",
      "[nltk_data] Downloading package stopwords to\n",
      "[nltk_data]     /Users/ivantravisany/nltk_data...\n",
      "[nltk_data]   Package stopwords is already up-to-date!\n",
      "[nltk_data] Downloading package wordnet to\n",
      "[nltk_data]     /Users/ivantravisany/nltk_data...\n",
      "[nltk_data]   Package wordnet is already up-to-date!\n"
     ]
    },
    {
     "data": {
      "text/plain": [
       "True"
      ]
     },
     "execution_count": 2,
     "metadata": {},
     "output_type": "execute_result"
    }
   ],
   "source": [
    "# First download the necessary NLTK data\n",
    "nltk.download('punkt')\n",
    "nltk.download('stopwords')\n",
    "nltk.download('wordnet')"
   ]
  },
  {
   "cell_type": "code",
   "execution_count": null,
   "metadata": {},
   "outputs": [],
   "source": [
    "# Custom input paragraph\n",
    "paragraph = \"\"\"Space, a boundless expanse stretching beyond Earth, intertwines with time in the fabric of the universe, as described by Einstein's theory of relativity. It is not just a void but a dynamic stage where galaxies, stars, and planets form, evolve, and sometimes perish. The cosmos is a tapestry of spacetime, shaped by gravity and punctuated by extraordinary phenomena like black holes, which warp time and space to extremes, and cosmic inflation, which expanded the universe in its infancy faster than the speed of light. Time itself behaves differently in the vastness of space; near massive objects like neutron stars, time slows, a phenomenon measurable by precise clocks and essential to understanding the universe’s nature. The study of cosmology seeks to uncover the origins and ultimate fate of this universe, from the Big Bang, which birthed time and space some 13.8 billion years ago, to its potential end in a Big Freeze, Big Rip, or Big Crunch. Observations of cosmic microwave background radiation, relic light from the early universe, provide glimpses into these ancient epochs, while dark matter and dark energy—comprising most of the universe’s mass and energy—remain enigmatic forces driving cosmic expansion and structure. Space and time are inseparable, and as we explore deeper into this interconnected realm, through telescopes and theoretical physics, we edge closer to unraveling the mysteries of our existence within this vast, four-dimensional continuum.\"\"\""
   ]
  },
  {
   "cell_type": "code",
   "execution_count": null,
   "metadata": {},
   "outputs": [],
   "source": [
    "# Function to pretty-print lists of lists for easy readability\n",
    "def pretty_print(title, data):\n",
    "    print(f\"\\n{title}\")\n",
    "    print(\"-\" * len(title))\n",
    "    for i, item in enumerate(data, start=1):\n",
    "        print(f\"{i}: {' '.join(item)}\")"
   ]
  },
  {
   "cell_type": "code",
   "execution_count": null,
   "metadata": {},
   "outputs": [
    {
     "name": "stdout",
     "output_type": "stream",
     "text": [
      "\n",
      "Original Sentences:\n",
      "--------------------\n",
      "1: Space, a boundless expanse stretching beyond Earth, intertwines with time in the fabric of the universe, as described by Einstein's theory of relativity.\n",
      "2: It is not just a void but a dynamic stage where galaxies, stars, and planets form, evolve, and sometimes perish.\n",
      "3: The cosmos is a tapestry of spacetime, shaped by gravity and punctuated by extraordinary phenomena like black holes, which warp time and space to extremes, and cosmic inflation, which expanded the universe in its infancy faster than the speed of light.\n",
      "4: Time itself behaves differently in the vastness of space; near massive objects like neutron stars, time slows, a phenomenon measurable by precise clocks and essential to understanding the universe’s nature.\n",
      "5: The study of cosmology seeks to uncover the origins and ultimate fate of this universe, from the Big Bang, which birthed time and space some 13.8 billion years ago, to its potential end in a Big Freeze, Big Rip, or Big Crunch.\n",
      "6: Observations of cosmic microwave background radiation, relic light from the early universe, provide glimpses into these ancient epochs, while dark matter and dark energy—comprising most of the universe’s mass and energy—remain enigmatic forces driving cosmic expansion and structure.\n",
      "7: Space and time are inseparable, and as we explore deeper into this interconnected realm, through telescopes and theoretical physics, we edge closer to unraveling the mysteries of our existence within this vast, four-dimensional continuum.\n"
     ]
    }
   ],
   "source": [
    "# Step 1: Parse the paragraph into sentences\n",
    "sentences = sent_tokenize(paragraph)\n",
    "\n",
    "# Pretty print the output\n",
    "print(\"\\nOriginal Sentences:\")\n",
    "print(\"-\" * 20)\n",
    "for i, sentence in enumerate(sentences, start=1):\n",
    "    print(f\"{i}: {sentence}\")"
   ]
  },
  {
   "cell_type": "code",
   "execution_count": null,
   "metadata": {},
   "outputs": [
    {
     "name": "stdout",
     "output_type": "stream",
     "text": [
      "Tokenized Words\n",
      "--------------------\n",
      "[['Space', ',', 'a', 'boundless', 'expanse', 'stretching', 'beyond', 'Earth', ',', 'intertwines', 'with', 'time', 'in', 'the', 'fabric', 'of', 'the', 'universe', ',', 'as', 'described', 'by', 'Einstein', \"'s\", 'theory', 'of', 'relativity', '.'], ['It', 'is', 'not', 'just', 'a', 'void', 'but', 'a', 'dynamic', 'stage', 'where', 'galaxies', ',', 'stars', ',', 'and', 'planets', 'form', ',', 'evolve', ',', 'and', 'sometimes', 'perish', '.'], ['The', 'cosmos', 'is', 'a', 'tapestry', 'of', 'spacetime', ',', 'shaped', 'by', 'gravity', 'and', 'punctuated', 'by', 'extraordinary', 'phenomena', 'like', 'black', 'holes', ',', 'which', 'warp', 'time', 'and', 'space', 'to', 'extremes', ',', 'and', 'cosmic', 'inflation', ',', 'which', 'expanded', 'the', 'universe', 'in', 'its', 'infancy', 'faster', 'than', 'the', 'speed', 'of', 'light', '.'], ['Time', 'itself', 'behaves', 'differently', 'in', 'the', 'vastness', 'of', 'space', ';', 'near', 'massive', 'objects', 'like', 'neutron', 'stars', ',', 'time', 'slows', ',', 'a', 'phenomenon', 'measurable', 'by', 'precise', 'clocks', 'and', 'essential', 'to', 'understanding', 'the', 'universe', '’', 's', 'nature', '.'], ['The', 'study', 'of', 'cosmology', 'seeks', 'to', 'uncover', 'the', 'origins', 'and', 'ultimate', 'fate', 'of', 'this', 'universe', ',', 'from', 'the', 'Big', 'Bang', ',', 'which', 'birthed', 'time', 'and', 'space', 'some', '13.8', 'billion', 'years', 'ago', ',', 'to', 'its', 'potential', 'end', 'in', 'a', 'Big', 'Freeze', ',', 'Big', 'Rip', ',', 'or', 'Big', 'Crunch', '.'], ['Observations', 'of', 'cosmic', 'microwave', 'background', 'radiation', ',', 'relic', 'light', 'from', 'the', 'early', 'universe', ',', 'provide', 'glimpses', 'into', 'these', 'ancient', 'epochs', ',', 'while', 'dark', 'matter', 'and', 'dark', 'energy—comprising', 'most', 'of', 'the', 'universe', '’', 's', 'mass', 'and', 'energy—remain', 'enigmatic', 'forces', 'driving', 'cosmic', 'expansion', 'and', 'structure', '.'], ['Space', 'and', 'time', 'are', 'inseparable', ',', 'and', 'as', 'we', 'explore', 'deeper', 'into', 'this', 'interconnected', 'realm', ',', 'through', 'telescopes', 'and', 'theoretical', 'physics', ',', 'we', 'edge', 'closer', 'to', 'unraveling', 'the', 'mysteries', 'of', 'our', 'existence', 'within', 'this', 'vast', ',', 'four-dimensional', 'continuum', '.']]\n"
     ]
    }
   ],
   "source": [
    "# Step 2: Tokenize each sentence into words\n",
    "tokenized_sentences = [word_tokenize(sentence) for sentence in sentences]\n",
    "\n",
    "# For now print regular so the 'tokenization' can be seen\n",
    "print(\"Tokenized Words\")\n",
    "print(\"-\" * 20)\n",
    "print(tokenized_sentences)"
   ]
  },
  {
   "cell_type": "code",
   "execution_count": null,
   "metadata": {},
   "outputs": [
    {
     "name": "stdout",
     "output_type": "stream",
     "text": [
      "\n",
      "Filtered Sentences (No Stop Words or Punctuation):\n",
      "--------------------------------------------------\n",
      "1: Space boundless expanse stretching beyond Earth intertwines time fabric universe described Einstein 's theory relativity\n",
      "2: void dynamic stage galaxies stars planets form evolve sometimes perish\n",
      "3: cosmos tapestry spacetime shaped gravity punctuated extraordinary phenomena like black holes warp time space extremes cosmic inflation expanded universe infancy faster speed light\n",
      "4: Time behaves differently vastness space near massive objects like neutron stars time slows phenomenon measurable precise clocks essential understanding universe ’ nature\n",
      "5: study cosmology seeks uncover origins ultimate fate universe Big Bang birthed time space 13.8 billion years ago potential end Big Freeze Big Rip Big Crunch\n",
      "6: Observations cosmic microwave background radiation relic light early universe provide glimpses ancient epochs dark matter dark energy—comprising universe ’ mass energy—remain enigmatic forces driving cosmic expansion structure\n",
      "7: Space time inseparable explore deeper interconnected realm telescopes theoretical physics edge closer unraveling mysteries existence within vast four-dimensional continuum\n"
     ]
    }
   ],
   "source": [
    "import string\n",
    "\n",
    "# Define stop words and also punctuations\n",
    "stop_words = set(stopwords.words(\"english\"))\n",
    "punctuation = set(string.punctuation)  # Includes , . ! ? etc.\n",
    "stop_words.update(punctuation)  # Treat punctuation as stop words\n",
    "\n",
    "# Remove both stop words and punctuation\n",
    "filtered_sentences = [\n",
    "    [word for word in sentence if word.lower() not in stop_words]\n",
    "    for sentence in tokenized_sentences\n",
    "]\n",
    "\n",
    "# Then pretty print it\n",
    "pretty_print(\"Filtered Sentences (No Stop Words or Punctuation):\", filtered_sentences)"
   ]
  },
  {
   "cell_type": "code",
   "execution_count": 8,
   "metadata": {},
   "outputs": [
    {
     "name": "stdout",
     "output_type": "stream",
     "text": [
      "\n",
      "Stemmed Words\n",
      "-------------\n",
      "1: space boundless expans stretch beyond earth intertwin time fabric univers describ einstein 's theori rel\n",
      "2: void dynam stage galaxi star planet form evolv sometim perish\n",
      "3: cosmo tapestri spacetim shape graviti punctuat extraordinari phenomena like black hole warp time space extrem cosmic inflat expand univers infanc faster speed light\n",
      "4: time behav differ vast space near massiv object like neutron star time slow phenomenon measur precis clock essenti understand univers ’ natur\n",
      "5: studi cosmolog seek uncov origin ultim fate univers big bang birth time space 13.8 billion year ago potenti end big freez big rip big crunch\n",
      "6: observ cosmic microwav background radiat relic light earli univers provid glimps ancient epoch dark matter dark energy—compris univers ’ mass energy—remain enigmat forc drive cosmic expans structur\n",
      "7: space time insepar explor deeper interconnect realm telescop theoret physic edg closer unravel mysteri exist within vast four-dimension continuum\n"
     ]
    }
   ],
   "source": [
    "# Step 4: Perform stemming\n",
    "stemmer = PorterStemmer()\n",
    "stemmed_sentences = [\n",
    "    [stemmer.stem(word) for word in sentence] for sentence in filtered_sentences\n",
    "]\n",
    "\n",
    "pretty_print(\"Stemmed Words\", stemmed_sentences)"
   ]
  },
  {
   "cell_type": "code",
   "execution_count": 9,
   "metadata": {},
   "outputs": [
    {
     "name": "stdout",
     "output_type": "stream",
     "text": [
      "\n",
      "Lemmatized Words\n",
      "----------------\n",
      "1: Space boundless expanse stretching beyond Earth intertwines time fabric universe described Einstein 's theory relativity\n",
      "2: void dynamic stage galaxy star planet form evolve sometimes perish\n",
      "3: cosmos tapestry spacetime shaped gravity punctuated extraordinary phenomenon like black hole warp time space extreme cosmic inflation expanded universe infancy faster speed light\n",
      "4: Time behaves differently vastness space near massive object like neutron star time slows phenomenon measurable precise clock essential understanding universe ’ nature\n",
      "5: study cosmology seek uncover origin ultimate fate universe Big Bang birthed time space 13.8 billion year ago potential end Big Freeze Big Rip Big Crunch\n",
      "6: Observations cosmic microwave background radiation relic light early universe provide glimpse ancient epoch dark matter dark energy—comprising universe ’ mass energy—remain enigmatic force driving cosmic expansion structure\n",
      "7: Space time inseparable explore deeper interconnected realm telescope theoretical physic edge closer unraveling mystery existence within vast four-dimensional continuum\n"
     ]
    }
   ],
   "source": [
    "# Step 5: Perform lemmatization\n",
    "lemmatizer = WordNetLemmatizer()\n",
    "lemmatized_sentences = [\n",
    "    [lemmatizer.lemmatize(word) for word in sentence] for sentence in filtered_sentences\n",
    "]\n",
    "\n",
    "pretty_print(\"Lemmatized Words\", lemmatized_sentences)"
   ]
  }
 ],
 "metadata": {
  "kernelspec": {
   "display_name": "Python 3",
   "language": "python",
   "name": "python3"
  },
  "language_info": {
   "codemirror_mode": {
    "name": "ipython",
    "version": 3
   },
   "file_extension": ".py",
   "mimetype": "text/x-python",
   "name": "python",
   "nbconvert_exporter": "python",
   "pygments_lexer": "ipython3",
   "version": "3.9.6"
  }
 },
 "nbformat": 4,
 "nbformat_minor": 2
}
